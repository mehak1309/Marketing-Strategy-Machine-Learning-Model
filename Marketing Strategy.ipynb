{
 "cells": [
  {
   "cell_type": "code",
   "execution_count": 1,
   "id": "fc9a4283",
   "metadata": {
    "execution": {
     "iopub.execute_input": "2022-12-18T10:14:10.695687Z",
     "iopub.status.busy": "2022-12-18T10:14:10.694555Z",
     "iopub.status.idle": "2022-12-18T10:14:10.712616Z",
     "shell.execute_reply": "2022-12-18T10:14:10.711444Z"
    },
    "id": "1NCoPutK2nH-",
    "papermill": {
     "duration": 0.036933,
     "end_time": "2022-12-18T10:14:10.715994",
     "exception": false,
     "start_time": "2022-12-18T10:14:10.679061",
     "status": "completed"
    },
    "tags": []
   },
   "outputs": [
    {
     "name": "stdout",
     "output_type": "stream",
     "text": [
      "/kaggle/input/marketing-strategy-personalised-offer/sample.csv\n",
      "/kaggle/input/marketing-strategy-personalised-offer/train_data.csv\n",
      "/kaggle/input/marketing-strategy-personalised-offer/test_data.csv\n"
     ]
    }
   ],
   "source": [
    "#This Python 3 environment comes with many helpful analytics libraries installed\n",
    "# It is defined by the kaggle/python Docker image: https://github.com/kaggle/docker-python\n",
    "# For example, here's several helpful packages to load\n",
    "\n",
    "import numpy as np # linear algebra\n",
    "import pandas as pd # data processing, CSV file I/O (e.g. pd.read_csv)\n",
    "\n",
    "# Input data files are available in the read-only \"../input/\" directory\n",
    "# For example, running this (by clicking run or pressing Shift+Enter) will list all files under the input directory\n",
    "\n",
    "import os\n",
    "for dirname, _, filenames in os.walk('/kaggle/input'):\n",
    "    for filename in filenames:\n",
    "        print(os.path.join(dirname, filename))\n",
    "\n",
    "# You can write up to 20GB to the current directory (/kaggle/working/) that gets preserved as output when you create a version using \"Save & Run All\" \n",
    "# You can also write temporary files to /kaggle/temp/, but they won't be saved outside of the current session"
   ]
  },
  {
   "cell_type": "code",
   "execution_count": 2,
   "id": "0c6cfd34",
   "metadata": {
    "execution": {
     "iopub.execute_input": "2022-12-18T10:14:10.743002Z",
     "iopub.status.busy": "2022-12-18T10:14:10.741775Z",
     "iopub.status.idle": "2022-12-18T10:14:12.371585Z",
     "shell.execute_reply": "2022-12-18T10:14:12.369767Z"
    },
    "id": "N_fvZxxG5fvu",
    "papermill": {
     "duration": 1.64599,
     "end_time": "2022-12-18T10:14:12.374777",
     "exception": false,
     "start_time": "2022-12-18T10:14:10.728787",
     "status": "completed"
    },
    "tags": []
   },
   "outputs": [],
   "source": [
    "import numpy as np\n",
    "import pandas as pd\n",
    "from sklearn.preprocessing import LabelEncoder\n",
    "import matplotlib.pyplot as plt\n",
    "from sklearn.impute import SimpleImputer\n",
    "from sklearn.preprocessing import OneHotEncoder\n",
    "from sklearn.compose import ColumnTransformer\n",
    "from sklearn.impute import KNNImputer\n",
    "from sklearn.ensemble import RandomForestClassifier\n",
    "from sklearn.preprocessing import StandardScaler"
   ]
  },
  {
   "cell_type": "code",
   "execution_count": 3,
   "id": "772e8920",
   "metadata": {
    "execution": {
     "iopub.execute_input": "2022-12-18T10:14:12.403768Z",
     "iopub.status.busy": "2022-12-18T10:14:12.402127Z",
     "iopub.status.idle": "2022-12-18T10:14:12.587083Z",
     "shell.execute_reply": "2022-12-18T10:14:12.585716Z"
    },
    "id": "dXrK8AEc2s62",
    "papermill": {
     "duration": 0.204058,
     "end_time": "2022-12-18T10:14:12.590484",
     "exception": false,
     "start_time": "2022-12-18T10:14:12.386426",
     "status": "completed"
    },
    "tags": []
   },
   "outputs": [],
   "source": [
    "data_1 = pd.read_csv(\"/kaggle/input/marketing-strategy-personalised-offer/train_data.csv\")\n",
    "data_2 = pd.read_csv(\"/kaggle/input/marketing-strategy-personalised-offer/test_data.csv\")"
   ]
  },
  {
   "cell_type": "code",
   "execution_count": 4,
   "id": "a8f145c3",
   "metadata": {
    "execution": {
     "iopub.execute_input": "2022-12-18T10:14:12.617686Z",
     "iopub.status.busy": "2022-12-18T10:14:12.615995Z",
     "iopub.status.idle": "2022-12-18T10:14:12.622613Z",
     "shell.execute_reply": "2022-12-18T10:14:12.621244Z"
    },
    "id": "eOSxWzVZ5fvv",
    "papermill": {
     "duration": 0.023469,
     "end_time": "2022-12-18T10:14:12.625595",
     "exception": false,
     "start_time": "2022-12-18T10:14:12.602126",
     "status": "completed"
    },
    "tags": []
   },
   "outputs": [],
   "source": [
    "# data_1 = pd.read_csv(\"train_data 2.csv\")\n",
    "# data_2 = pd.read_csv(\"test_data.csv\")"
   ]
  },
  {
   "cell_type": "code",
   "execution_count": 5,
   "id": "cdb54751",
   "metadata": {
    "execution": {
     "iopub.execute_input": "2022-12-18T10:14:12.651083Z",
     "iopub.status.busy": "2022-12-18T10:14:12.650555Z",
     "iopub.status.idle": "2022-12-18T10:14:12.672074Z",
     "shell.execute_reply": "2022-12-18T10:14:12.670987Z"
    },
    "id": "xBB0MO695fvw",
    "papermill": {
     "duration": 0.03772,
     "end_time": "2022-12-18T10:14:12.674894",
     "exception": false,
     "start_time": "2022-12-18T10:14:12.637174",
     "status": "completed"
    },
    "tags": []
   },
   "outputs": [],
   "source": [
    "data = data_1.copy()\n",
    "x = data.iloc[:, :-1]\n",
    "y = data.iloc[:, -1]\n",
    "\n",
    "x_testing = data_2"
   ]
  },
  {
   "cell_type": "code",
   "execution_count": 6,
   "id": "b6f84b10",
   "metadata": {
    "execution": {
     "iopub.execute_input": "2022-12-18T10:14:12.700230Z",
     "iopub.status.busy": "2022-12-18T10:14:12.699657Z",
     "iopub.status.idle": "2022-12-18T10:14:12.740126Z",
     "shell.execute_reply": "2022-12-18T10:14:12.738524Z"
    },
    "id": "uz23xEVy5fvy",
    "outputId": "9981970c-3068-4151-c407-fd17633d9443",
    "papermill": {
     "duration": 0.057675,
     "end_time": "2022-12-18T10:14:12.744055",
     "exception": false,
     "start_time": "2022-12-18T10:14:12.686380",
     "status": "completed"
    },
    "tags": []
   },
   "outputs": [
    {
     "data": {
      "text/html": [
       "<div>\n",
       "<style scoped>\n",
       "    .dataframe tbody tr th:only-of-type {\n",
       "        vertical-align: middle;\n",
       "    }\n",
       "\n",
       "    .dataframe tbody tr th {\n",
       "        vertical-align: top;\n",
       "    }\n",
       "\n",
       "    .dataframe thead th {\n",
       "        text-align: right;\n",
       "    }\n",
       "</style>\n",
       "<table border=\"1\" class=\"dataframe\">\n",
       "  <thead>\n",
       "    <tr style=\"text-align: right;\">\n",
       "      <th></th>\n",
       "      <th>offer expiration</th>\n",
       "      <th>income_range</th>\n",
       "      <th>no_visited_Cold drinks</th>\n",
       "      <th>travelled_more_than_15mins_for_offer</th>\n",
       "      <th>Restaur_spend_less_than20</th>\n",
       "      <th>Marital Status</th>\n",
       "      <th>restaurant type</th>\n",
       "      <th>age</th>\n",
       "      <th>Prefer western over chinese</th>\n",
       "      <th>travelled_more_than_25mins_for_offer</th>\n",
       "      <th>...</th>\n",
       "      <th>restuarant_opposite_direction_house</th>\n",
       "      <th>has Children</th>\n",
       "      <th>visit restaurant with rating (avg)</th>\n",
       "      <th>temperature</th>\n",
       "      <th>Restaur_spend_greater_than20</th>\n",
       "      <th>Travel Time</th>\n",
       "      <th>Climate</th>\n",
       "      <th>drop location</th>\n",
       "      <th>Prefer home food</th>\n",
       "      <th>Offer Accepted</th>\n",
       "    </tr>\n",
       "  </thead>\n",
       "  <tbody>\n",
       "    <tr>\n",
       "      <th>0</th>\n",
       "      <td>2days</td>\n",
       "      <td>₹100000 or More</td>\n",
       "      <td>4~8</td>\n",
       "      <td>1</td>\n",
       "      <td>less1</td>\n",
       "      <td>Married partner</td>\n",
       "      <td>4 star restaurant</td>\n",
       "      <td>36</td>\n",
       "      <td>0</td>\n",
       "      <td>0</td>\n",
       "      <td>...</td>\n",
       "      <td>0</td>\n",
       "      <td>0</td>\n",
       "      <td>4</td>\n",
       "      <td>67</td>\n",
       "      <td>less1</td>\n",
       "      <td>22</td>\n",
       "      <td>Spring</td>\n",
       "      <td>Location B</td>\n",
       "      <td>0</td>\n",
       "      <td>No</td>\n",
       "    </tr>\n",
       "    <tr>\n",
       "      <th>1</th>\n",
       "      <td>2days</td>\n",
       "      <td>₹87500 - ₹99999</td>\n",
       "      <td>4~8</td>\n",
       "      <td>0</td>\n",
       "      <td>4~8</td>\n",
       "      <td>Married partner</td>\n",
       "      <td>Take-away restaurant</td>\n",
       "      <td>50plus</td>\n",
       "      <td>0</td>\n",
       "      <td>0</td>\n",
       "      <td>...</td>\n",
       "      <td>0</td>\n",
       "      <td>1</td>\n",
       "      <td>3</td>\n",
       "      <td>89</td>\n",
       "      <td>1~3</td>\n",
       "      <td>18</td>\n",
       "      <td>Summer</td>\n",
       "      <td>Location B</td>\n",
       "      <td>0</td>\n",
       "      <td>Yes</td>\n",
       "    </tr>\n",
       "    <tr>\n",
       "      <th>2</th>\n",
       "      <td>2days</td>\n",
       "      <td>₹87500 - ₹99999</td>\n",
       "      <td>less1</td>\n",
       "      <td>1</td>\n",
       "      <td>1~3</td>\n",
       "      <td>Single</td>\n",
       "      <td>Cold drinks</td>\n",
       "      <td>26</td>\n",
       "      <td>1</td>\n",
       "      <td>0</td>\n",
       "      <td>...</td>\n",
       "      <td>1</td>\n",
       "      <td>1</td>\n",
       "      <td>4</td>\n",
       "      <td>67</td>\n",
       "      <td>less1</td>\n",
       "      <td>7</td>\n",
       "      <td>Winter</td>\n",
       "      <td>Location A</td>\n",
       "      <td>1</td>\n",
       "      <td>Yes</td>\n",
       "    </tr>\n",
       "    <tr>\n",
       "      <th>3</th>\n",
       "      <td>10hours</td>\n",
       "      <td>₹37500 - ₹49999</td>\n",
       "      <td>less1</td>\n",
       "      <td>0</td>\n",
       "      <td>1~3</td>\n",
       "      <td>Single</td>\n",
       "      <td>Take-away restaurant</td>\n",
       "      <td>46</td>\n",
       "      <td>1</td>\n",
       "      <td>0</td>\n",
       "      <td>...</td>\n",
       "      <td>0</td>\n",
       "      <td>1</td>\n",
       "      <td>3</td>\n",
       "      <td>89</td>\n",
       "      <td>1~3</td>\n",
       "      <td>7</td>\n",
       "      <td>Summer</td>\n",
       "      <td>Location C</td>\n",
       "      <td>0</td>\n",
       "      <td>No</td>\n",
       "    </tr>\n",
       "    <tr>\n",
       "      <th>4</th>\n",
       "      <td>2days</td>\n",
       "      <td>₹100000 or More</td>\n",
       "      <td>never</td>\n",
       "      <td>1</td>\n",
       "      <td>1~3</td>\n",
       "      <td>Single</td>\n",
       "      <td>4 star restaurant</td>\n",
       "      <td>21</td>\n",
       "      <td>0</td>\n",
       "      <td>1</td>\n",
       "      <td>...</td>\n",
       "      <td>1</td>\n",
       "      <td>0</td>\n",
       "      <td>3</td>\n",
       "      <td>40</td>\n",
       "      <td>less1</td>\n",
       "      <td>7</td>\n",
       "      <td>Summer</td>\n",
       "      <td>Location C</td>\n",
       "      <td>0</td>\n",
       "      <td>No</td>\n",
       "    </tr>\n",
       "  </tbody>\n",
       "</table>\n",
       "<p>5 rows × 31 columns</p>\n",
       "</div>"
      ],
      "text/plain": [
       "  offer expiration     income_range no_visited_Cold drinks  \\\n",
       "0            2days  ₹100000 or More                    4~8   \n",
       "1            2days  ₹87500 - ₹99999                    4~8   \n",
       "2            2days  ₹87500 - ₹99999                  less1   \n",
       "3          10hours  ₹37500 - ₹49999                  less1   \n",
       "4            2days  ₹100000 or More                  never   \n",
       "\n",
       "   travelled_more_than_15mins_for_offer Restaur_spend_less_than20  \\\n",
       "0                                     1                     less1   \n",
       "1                                     0                       4~8   \n",
       "2                                     1                       1~3   \n",
       "3                                     0                       1~3   \n",
       "4                                     1                       1~3   \n",
       "\n",
       "    Marital Status       restaurant type     age  Prefer western over chinese  \\\n",
       "0  Married partner     4 star restaurant      36                            0   \n",
       "1  Married partner  Take-away restaurant  50plus                            0   \n",
       "2           Single           Cold drinks      26                            1   \n",
       "3           Single  Take-away restaurant      46                            1   \n",
       "4           Single     4 star restaurant      21                            0   \n",
       "\n",
       "   travelled_more_than_25mins_for_offer  ...  \\\n",
       "0                                     0  ...   \n",
       "1                                     0  ...   \n",
       "2                                     0  ...   \n",
       "3                                     0  ...   \n",
       "4                                     1  ...   \n",
       "\n",
       "   restuarant_opposite_direction_house has Children  \\\n",
       "0                                    0            0   \n",
       "1                                    0            1   \n",
       "2                                    1            1   \n",
       "3                                    0            1   \n",
       "4                                    1            0   \n",
       "\n",
       "  visit restaurant with rating (avg) temperature  \\\n",
       "0                                  4          67   \n",
       "1                                  3          89   \n",
       "2                                  4          67   \n",
       "3                                  3          89   \n",
       "4                                  3          40   \n",
       "\n",
       "   Restaur_spend_greater_than20  Travel Time Climate drop location  \\\n",
       "0                         less1           22  Spring    Location B   \n",
       "1                           1~3           18  Summer    Location B   \n",
       "2                         less1            7  Winter    Location A   \n",
       "3                           1~3            7  Summer    Location C   \n",
       "4                         less1            7  Summer    Location C   \n",
       "\n",
       "   Prefer home food Offer Accepted  \n",
       "0                 0             No  \n",
       "1                 0            Yes  \n",
       "2                 1            Yes  \n",
       "3                 0             No  \n",
       "4                 0             No  \n",
       "\n",
       "[5 rows x 31 columns]"
      ]
     },
     "execution_count": 6,
     "metadata": {},
     "output_type": "execute_result"
    }
   ],
   "source": [
    "data.head(5)"
   ]
  },
  {
   "cell_type": "code",
   "execution_count": 7,
   "id": "2c3b48b7",
   "metadata": {
    "execution": {
     "iopub.execute_input": "2022-12-18T10:14:12.773662Z",
     "iopub.status.busy": "2022-12-18T10:14:12.772636Z",
     "iopub.status.idle": "2022-12-18T10:14:12.781609Z",
     "shell.execute_reply": "2022-12-18T10:14:12.780317Z"
    },
    "id": "sGT7rWYU5fvz",
    "outputId": "8de1e714-8698-4a11-ebcd-99917071278e",
    "papermill": {
     "duration": 0.026604,
     "end_time": "2022-12-18T10:14:12.784424",
     "exception": false,
     "start_time": "2022-12-18T10:14:12.757820",
     "status": "completed"
    },
    "tags": []
   },
   "outputs": [
    {
     "data": {
      "text/plain": [
       "(31,)"
      ]
     },
     "execution_count": 7,
     "metadata": {},
     "output_type": "execute_result"
    }
   ],
   "source": [
    "data.columns.shape"
   ]
  },
  {
   "cell_type": "code",
   "execution_count": 8,
   "id": "e0cb789a",
   "metadata": {
    "execution": {
     "iopub.execute_input": "2022-12-18T10:14:12.814267Z",
     "iopub.status.busy": "2022-12-18T10:14:12.812524Z",
     "iopub.status.idle": "2022-12-18T10:14:12.821468Z",
     "shell.execute_reply": "2022-12-18T10:14:12.819993Z"
    },
    "id": "D4okmeG55fwE",
    "outputId": "3fbfc62f-6eeb-4238-f28b-3ee8d4e3853b",
    "papermill": {
     "duration": 0.027001,
     "end_time": "2022-12-18T10:14:12.824265",
     "exception": false,
     "start_time": "2022-12-18T10:14:12.797264",
     "status": "completed"
    },
    "tags": []
   },
   "outputs": [
    {
     "data": {
      "text/plain": [
       "(12379, 31)"
      ]
     },
     "execution_count": 8,
     "metadata": {},
     "output_type": "execute_result"
    }
   ],
   "source": [
    "data.shape"
   ]
  },
  {
   "cell_type": "code",
   "execution_count": 9,
   "id": "22d0cb23",
   "metadata": {
    "execution": {
     "iopub.execute_input": "2022-12-18T10:14:12.852449Z",
     "iopub.status.busy": "2022-12-18T10:14:12.851211Z",
     "iopub.status.idle": "2022-12-18T10:14:12.864560Z",
     "shell.execute_reply": "2022-12-18T10:14:12.863016Z"
    },
    "id": "I8V3kx-V5fwE",
    "outputId": "a2204772-318c-4655-aa58-60133ac06d30",
    "papermill": {
     "duration": 0.030741,
     "end_time": "2022-12-18T10:14:12.867838",
     "exception": false,
     "start_time": "2022-12-18T10:14:12.837097",
     "status": "completed"
    },
    "tags": []
   },
   "outputs": [
    {
     "data": {
      "text/plain": [
       "Index(['offer expiration', 'income_range', 'no_visited_Cold drinks',\n",
       "       'travelled_more_than_15mins_for_offer', 'Restaur_spend_less_than20',\n",
       "       'Marital Status', 'restaurant type', 'age',\n",
       "       'Prefer western over chinese', 'travelled_more_than_25mins_for_offer',\n",
       "       'travelled_more_than_5mins_for_offer', 'no_visited_bars', 'gender',\n",
       "       'car', 'restuarant_same_direction_house', 'Cooks regularly',\n",
       "       'Customer type', 'Qualification', 'is foodie', 'no_Take-aways',\n",
       "       'Job/Job Industry', 'restuarant_opposite_direction_house',\n",
       "       'has Children', 'visit restaurant with rating (avg)', 'temperature',\n",
       "       'Restaur_spend_greater_than20', 'Travel Time', 'Climate',\n",
       "       'drop location', 'Prefer home food', 'Offer Accepted'],\n",
       "      dtype='object')"
      ]
     },
     "execution_count": 9,
     "metadata": {},
     "output_type": "execute_result"
    }
   ],
   "source": [
    "data.columns"
   ]
  },
  {
   "cell_type": "markdown",
   "id": "3e2f0139",
   "metadata": {
    "id": "Ag5KqOeS5fxA",
    "papermill": {
     "duration": 0.012189,
     "end_time": "2022-12-18T10:14:12.893107",
     "exception": false,
     "start_time": "2022-12-18T10:14:12.880918",
     "status": "completed"
    },
    "tags": []
   },
   "source": [
    "#Data Transformation"
   ]
  },
  {
   "cell_type": "code",
   "execution_count": 10,
   "id": "f1ed2c54",
   "metadata": {
    "execution": {
     "iopub.execute_input": "2022-12-18T10:14:12.922186Z",
     "iopub.status.busy": "2022-12-18T10:14:12.921262Z",
     "iopub.status.idle": "2022-12-18T10:14:12.948812Z",
     "shell.execute_reply": "2022-12-18T10:14:12.947309Z"
    },
    "id": "Jhcb0Eke9MHK",
    "outputId": "e4507ce6-ba59-47db-c28e-c8be1c71c048",
    "papermill": {
     "duration": 0.04536,
     "end_time": "2022-12-18T10:14:12.952034",
     "exception": false,
     "start_time": "2022-12-18T10:14:12.906674",
     "status": "completed"
    },
    "tags": []
   },
   "outputs": [
    {
     "data": {
      "text/html": [
       "<div>\n",
       "<style scoped>\n",
       "    .dataframe tbody tr th:only-of-type {\n",
       "        vertical-align: middle;\n",
       "    }\n",
       "\n",
       "    .dataframe tbody tr th {\n",
       "        vertical-align: top;\n",
       "    }\n",
       "\n",
       "    .dataframe thead th {\n",
       "        text-align: right;\n",
       "    }\n",
       "</style>\n",
       "<table border=\"1\" class=\"dataframe\">\n",
       "  <thead>\n",
       "    <tr style=\"text-align: right;\">\n",
       "      <th></th>\n",
       "      <th>offer expiration</th>\n",
       "      <th>income_range</th>\n",
       "      <th>no_visited_Cold drinks</th>\n",
       "      <th>travelled_more_than_15mins_for_offer</th>\n",
       "      <th>Restaur_spend_less_than20</th>\n",
       "      <th>Marital Status</th>\n",
       "      <th>restaurant type</th>\n",
       "      <th>age</th>\n",
       "      <th>Prefer western over chinese</th>\n",
       "      <th>travelled_more_than_25mins_for_offer</th>\n",
       "      <th>...</th>\n",
       "      <th>restuarant_opposite_direction_house</th>\n",
       "      <th>has Children</th>\n",
       "      <th>visit restaurant with rating (avg)</th>\n",
       "      <th>temperature</th>\n",
       "      <th>Restaur_spend_greater_than20</th>\n",
       "      <th>Travel Time</th>\n",
       "      <th>Climate</th>\n",
       "      <th>drop location</th>\n",
       "      <th>Prefer home food</th>\n",
       "      <th>Offer Accepted</th>\n",
       "    </tr>\n",
       "  </thead>\n",
       "  <tbody>\n",
       "    <tr>\n",
       "      <th>0</th>\n",
       "      <td>2days</td>\n",
       "      <td>₹100000 or More</td>\n",
       "      <td>4~8</td>\n",
       "      <td>1</td>\n",
       "      <td>less1</td>\n",
       "      <td>Married partner</td>\n",
       "      <td>4 star restaurant</td>\n",
       "      <td>36</td>\n",
       "      <td>0</td>\n",
       "      <td>0</td>\n",
       "      <td>...</td>\n",
       "      <td>0</td>\n",
       "      <td>0</td>\n",
       "      <td>4</td>\n",
       "      <td>67</td>\n",
       "      <td>less1</td>\n",
       "      <td>22</td>\n",
       "      <td>Spring</td>\n",
       "      <td>Location B</td>\n",
       "      <td>0</td>\n",
       "      <td>No</td>\n",
       "    </tr>\n",
       "    <tr>\n",
       "      <th>1</th>\n",
       "      <td>2days</td>\n",
       "      <td>₹87500 - ₹99999</td>\n",
       "      <td>4~8</td>\n",
       "      <td>0</td>\n",
       "      <td>4~8</td>\n",
       "      <td>Married partner</td>\n",
       "      <td>Take-away restaurant</td>\n",
       "      <td>50plus</td>\n",
       "      <td>0</td>\n",
       "      <td>0</td>\n",
       "      <td>...</td>\n",
       "      <td>0</td>\n",
       "      <td>1</td>\n",
       "      <td>3</td>\n",
       "      <td>89</td>\n",
       "      <td>1~3</td>\n",
       "      <td>18</td>\n",
       "      <td>Summer</td>\n",
       "      <td>Location B</td>\n",
       "      <td>0</td>\n",
       "      <td>Yes</td>\n",
       "    </tr>\n",
       "    <tr>\n",
       "      <th>2</th>\n",
       "      <td>2days</td>\n",
       "      <td>₹87500 - ₹99999</td>\n",
       "      <td>less1</td>\n",
       "      <td>1</td>\n",
       "      <td>1~3</td>\n",
       "      <td>Single</td>\n",
       "      <td>Cold drinks</td>\n",
       "      <td>26</td>\n",
       "      <td>1</td>\n",
       "      <td>0</td>\n",
       "      <td>...</td>\n",
       "      <td>1</td>\n",
       "      <td>1</td>\n",
       "      <td>4</td>\n",
       "      <td>67</td>\n",
       "      <td>less1</td>\n",
       "      <td>7</td>\n",
       "      <td>Winter</td>\n",
       "      <td>Location A</td>\n",
       "      <td>1</td>\n",
       "      <td>Yes</td>\n",
       "    </tr>\n",
       "    <tr>\n",
       "      <th>3</th>\n",
       "      <td>10hours</td>\n",
       "      <td>₹37500 - ₹49999</td>\n",
       "      <td>less1</td>\n",
       "      <td>0</td>\n",
       "      <td>1~3</td>\n",
       "      <td>Single</td>\n",
       "      <td>Take-away restaurant</td>\n",
       "      <td>46</td>\n",
       "      <td>1</td>\n",
       "      <td>0</td>\n",
       "      <td>...</td>\n",
       "      <td>0</td>\n",
       "      <td>1</td>\n",
       "      <td>3</td>\n",
       "      <td>89</td>\n",
       "      <td>1~3</td>\n",
       "      <td>7</td>\n",
       "      <td>Summer</td>\n",
       "      <td>Location C</td>\n",
       "      <td>0</td>\n",
       "      <td>No</td>\n",
       "    </tr>\n",
       "    <tr>\n",
       "      <th>4</th>\n",
       "      <td>2days</td>\n",
       "      <td>₹100000 or More</td>\n",
       "      <td>never</td>\n",
       "      <td>1</td>\n",
       "      <td>1~3</td>\n",
       "      <td>Single</td>\n",
       "      <td>4 star restaurant</td>\n",
       "      <td>21</td>\n",
       "      <td>0</td>\n",
       "      <td>1</td>\n",
       "      <td>...</td>\n",
       "      <td>1</td>\n",
       "      <td>0</td>\n",
       "      <td>3</td>\n",
       "      <td>40</td>\n",
       "      <td>less1</td>\n",
       "      <td>7</td>\n",
       "      <td>Summer</td>\n",
       "      <td>Location C</td>\n",
       "      <td>0</td>\n",
       "      <td>No</td>\n",
       "    </tr>\n",
       "  </tbody>\n",
       "</table>\n",
       "<p>5 rows × 31 columns</p>\n",
       "</div>"
      ],
      "text/plain": [
       "  offer expiration     income_range no_visited_Cold drinks  \\\n",
       "0            2days  ₹100000 or More                    4~8   \n",
       "1            2days  ₹87500 - ₹99999                    4~8   \n",
       "2            2days  ₹87500 - ₹99999                  less1   \n",
       "3          10hours  ₹37500 - ₹49999                  less1   \n",
       "4            2days  ₹100000 or More                  never   \n",
       "\n",
       "   travelled_more_than_15mins_for_offer Restaur_spend_less_than20  \\\n",
       "0                                     1                     less1   \n",
       "1                                     0                       4~8   \n",
       "2                                     1                       1~3   \n",
       "3                                     0                       1~3   \n",
       "4                                     1                       1~3   \n",
       "\n",
       "    Marital Status       restaurant type     age  Prefer western over chinese  \\\n",
       "0  Married partner     4 star restaurant      36                            0   \n",
       "1  Married partner  Take-away restaurant  50plus                            0   \n",
       "2           Single           Cold drinks      26                            1   \n",
       "3           Single  Take-away restaurant      46                            1   \n",
       "4           Single     4 star restaurant      21                            0   \n",
       "\n",
       "   travelled_more_than_25mins_for_offer  ...  \\\n",
       "0                                     0  ...   \n",
       "1                                     0  ...   \n",
       "2                                     0  ...   \n",
       "3                                     0  ...   \n",
       "4                                     1  ...   \n",
       "\n",
       "   restuarant_opposite_direction_house has Children  \\\n",
       "0                                    0            0   \n",
       "1                                    0            1   \n",
       "2                                    1            1   \n",
       "3                                    0            1   \n",
       "4                                    1            0   \n",
       "\n",
       "  visit restaurant with rating (avg) temperature  \\\n",
       "0                                  4          67   \n",
       "1                                  3          89   \n",
       "2                                  4          67   \n",
       "3                                  3          89   \n",
       "4                                  3          40   \n",
       "\n",
       "   Restaur_spend_greater_than20  Travel Time Climate drop location  \\\n",
       "0                         less1           22  Spring    Location B   \n",
       "1                           1~3           18  Summer    Location B   \n",
       "2                         less1            7  Winter    Location A   \n",
       "3                           1~3            7  Summer    Location C   \n",
       "4                         less1            7  Summer    Location C   \n",
       "\n",
       "   Prefer home food Offer Accepted  \n",
       "0                 0             No  \n",
       "1                 0            Yes  \n",
       "2                 1            Yes  \n",
       "3                 0             No  \n",
       "4                 0             No  \n",
       "\n",
       "[5 rows x 31 columns]"
      ]
     },
     "execution_count": 10,
     "metadata": {},
     "output_type": "execute_result"
    }
   ],
   "source": [
    "data.head()"
   ]
  },
  {
   "cell_type": "code",
   "execution_count": 11,
   "id": "fbd0b6ff",
   "metadata": {
    "execution": {
     "iopub.execute_input": "2022-12-18T10:14:12.980283Z",
     "iopub.status.busy": "2022-12-18T10:14:12.979710Z",
     "iopub.status.idle": "2022-12-18T10:14:13.052527Z",
     "shell.execute_reply": "2022-12-18T10:14:13.050787Z"
    },
    "id": "uqW2bfJ55fxA",
    "outputId": "09f43f1f-b8ca-473d-db01-b39fdf50f779",
    "papermill": {
     "duration": 0.090133,
     "end_time": "2022-12-18T10:14:13.055273",
     "exception": false,
     "start_time": "2022-12-18T10:14:12.965140",
     "status": "completed"
    },
    "tags": []
   },
   "outputs": [
    {
     "name": "stderr",
     "output_type": "stream",
     "text": [
      "/opt/conda/lib/python3.7/site-packages/ipykernel_launcher.py:4: SettingWithCopyWarning: \n",
      "A value is trying to be set on a copy of a slice from a DataFrame\n",
      "\n",
      "See the caveats in the documentation: https://pandas.pydata.org/pandas-docs/stable/user_guide/indexing.html#returning-a-view-versus-a-copy\n",
      "  after removing the cwd from sys.path.\n"
     ]
    },
    {
     "data": {
      "text/html": [
       "<div>\n",
       "<style scoped>\n",
       "    .dataframe tbody tr th:only-of-type {\n",
       "        vertical-align: middle;\n",
       "    }\n",
       "\n",
       "    .dataframe tbody tr th {\n",
       "        vertical-align: top;\n",
       "    }\n",
       "\n",
       "    .dataframe thead th {\n",
       "        text-align: right;\n",
       "    }\n",
       "</style>\n",
       "<table border=\"1\" class=\"dataframe\">\n",
       "  <thead>\n",
       "    <tr style=\"text-align: right;\">\n",
       "      <th></th>\n",
       "      <th>Offer Accepted</th>\n",
       "    </tr>\n",
       "  </thead>\n",
       "  <tbody>\n",
       "    <tr>\n",
       "      <th>0</th>\n",
       "      <td>0</td>\n",
       "    </tr>\n",
       "    <tr>\n",
       "      <th>1</th>\n",
       "      <td>1</td>\n",
       "    </tr>\n",
       "    <tr>\n",
       "      <th>2</th>\n",
       "      <td>1</td>\n",
       "    </tr>\n",
       "    <tr>\n",
       "      <th>3</th>\n",
       "      <td>0</td>\n",
       "    </tr>\n",
       "    <tr>\n",
       "      <th>4</th>\n",
       "      <td>0</td>\n",
       "    </tr>\n",
       "    <tr>\n",
       "      <th>...</th>\n",
       "      <td>...</td>\n",
       "    </tr>\n",
       "    <tr>\n",
       "      <th>12374</th>\n",
       "      <td>1</td>\n",
       "    </tr>\n",
       "    <tr>\n",
       "      <th>12375</th>\n",
       "      <td>1</td>\n",
       "    </tr>\n",
       "    <tr>\n",
       "      <th>12376</th>\n",
       "      <td>0</td>\n",
       "    </tr>\n",
       "    <tr>\n",
       "      <th>12377</th>\n",
       "      <td>1</td>\n",
       "    </tr>\n",
       "    <tr>\n",
       "      <th>12378</th>\n",
       "      <td>1</td>\n",
       "    </tr>\n",
       "  </tbody>\n",
       "</table>\n",
       "<p>12379 rows × 1 columns</p>\n",
       "</div>"
      ],
      "text/plain": [
       "       Offer Accepted\n",
       "0                   0\n",
       "1                   1\n",
       "2                   1\n",
       "3                   0\n",
       "4                   0\n",
       "...               ...\n",
       "12374               1\n",
       "12375               1\n",
       "12376               0\n",
       "12377               1\n",
       "12378               1\n",
       "\n",
       "[12379 rows x 1 columns]"
      ]
     },
     "execution_count": 11,
     "metadata": {},
     "output_type": "execute_result"
    }
   ],
   "source": [
    "from sklearn.preprocessing import LabelBinarizer\n",
    "b = LabelBinarizer()\n",
    "offer = b.fit_transform(data[\"Offer Accepted\"])\n",
    "y[\"Offer Accepted\"] = offer\n",
    "y = pd.DataFrame(y[\"Offer Accepted\"], columns=[\"Offer Accepted\"])\n",
    "y"
   ]
  },
  {
   "cell_type": "code",
   "execution_count": 12,
   "id": "5c54629c",
   "metadata": {
    "execution": {
     "iopub.execute_input": "2022-12-18T10:14:13.083402Z",
     "iopub.status.busy": "2022-12-18T10:14:13.082872Z",
     "iopub.status.idle": "2022-12-18T10:14:13.098774Z",
     "shell.execute_reply": "2022-12-18T10:14:13.097373Z"
    },
    "id": "1WjnBm4U5fxC",
    "papermill": {
     "duration": 0.033942,
     "end_time": "2022-12-18T10:14:13.102192",
     "exception": false,
     "start_time": "2022-12-18T10:14:13.068250",
     "status": "completed"
    },
    "tags": []
   },
   "outputs": [],
   "source": [
    "x.drop(['car'], axis=1, inplace=True)\n",
    "x_testing.drop([\"car\"], axis=1, inplace=True)"
   ]
  },
  {
   "cell_type": "code",
   "execution_count": 13,
   "id": "54372aba",
   "metadata": {
    "execution": {
     "iopub.execute_input": "2022-12-18T10:14:13.131168Z",
     "iopub.status.busy": "2022-12-18T10:14:13.130612Z",
     "iopub.status.idle": "2022-12-18T10:14:13.138824Z",
     "shell.execute_reply": "2022-12-18T10:14:13.137266Z"
    },
    "id": "lv0h-6rzLVR1",
    "outputId": "610d6feb-b4c6-41e7-8be6-a295543713c4",
    "papermill": {
     "duration": 0.026422,
     "end_time": "2022-12-18T10:14:13.141614",
     "exception": false,
     "start_time": "2022-12-18T10:14:13.115192",
     "status": "completed"
    },
    "tags": []
   },
   "outputs": [
    {
     "data": {
      "text/plain": [
       "(12379, 29)"
      ]
     },
     "execution_count": 13,
     "metadata": {},
     "output_type": "execute_result"
    }
   ],
   "source": [
    "x.shape"
   ]
  },
  {
   "cell_type": "code",
   "execution_count": 14,
   "id": "037d577d",
   "metadata": {
    "execution": {
     "iopub.execute_input": "2022-12-18T10:14:13.171204Z",
     "iopub.status.busy": "2022-12-18T10:14:13.170021Z",
     "iopub.status.idle": "2022-12-18T10:14:13.179417Z",
     "shell.execute_reply": "2022-12-18T10:14:13.177858Z"
    },
    "id": "0F0ad7Yb5fxF",
    "papermill": {
     "duration": 0.027511,
     "end_time": "2022-12-18T10:14:13.182382",
     "exception": false,
     "start_time": "2022-12-18T10:14:13.154871",
     "status": "completed"
    },
    "tags": []
   },
   "outputs": [],
   "source": [
    "def knn_func(data, colname):\n",
    "    data[colname].replace('1~3', 0, inplace=True)\n",
    "    data[colname].replace('gt8', 1, inplace=True)\n",
    "    data[colname].replace('4~8', 2, inplace=True)\n",
    "    data[colname].replace(\"less1\", 3, inplace=True)\n",
    "    data[colname].replace(\"never\", 4, inplace=True)\n",
    "\n",
    "    knn = KNNImputer(n_neighbors=1, missing_values=np.nan)\n",
    "    cd = knn.fit_transform(data[colname].to_numpy().reshape(-1,1))\n",
    "    \n",
    "    data[colname] = cd.astype(int)"
   ]
  },
  {
   "cell_type": "code",
   "execution_count": 15,
   "id": "4b41664f",
   "metadata": {
    "execution": {
     "iopub.execute_input": "2022-12-18T10:14:13.211535Z",
     "iopub.status.busy": "2022-12-18T10:14:13.210978Z",
     "iopub.status.idle": "2022-12-18T10:14:13.966279Z",
     "shell.execute_reply": "2022-12-18T10:14:13.964670Z"
    },
    "id": "trg1ZW_SAKR7",
    "papermill": {
     "duration": 0.774681,
     "end_time": "2022-12-18T10:14:13.970393",
     "exception": false,
     "start_time": "2022-12-18T10:14:13.195712",
     "status": "completed"
    },
    "tags": []
   },
   "outputs": [],
   "source": [
    "knn_func(x, \"no_visited_Cold drinks\")\n",
    "knn_func(x, \"Restaur_spend_greater_than20\")\n",
    "knn_func(x, \"no_visited_bars\")\n",
    "knn_func(x, \"no_Take-aways\")\n",
    "knn_func(x, \"Restaur_spend_less_than20\")"
   ]
  },
  {
   "cell_type": "code",
   "execution_count": 16,
   "id": "e6374416",
   "metadata": {
    "execution": {
     "iopub.execute_input": "2022-12-18T10:14:14.013025Z",
     "iopub.status.busy": "2022-12-18T10:14:14.012479Z",
     "iopub.status.idle": "2022-12-18T10:14:14.188782Z",
     "shell.execute_reply": "2022-12-18T10:14:14.187218Z"
    },
    "id": "Z0iVgyECwMFI",
    "papermill": {
     "duration": 0.202536,
     "end_time": "2022-12-18T10:14:14.194250",
     "exception": false,
     "start_time": "2022-12-18T10:14:13.991714",
     "status": "completed"
    },
    "tags": []
   },
   "outputs": [],
   "source": [
    "knn_func(x_testing, \"no_visited_Cold drinks\")\n",
    "knn_func(x_testing, \"Restaur_spend_greater_than20\")\n",
    "knn_func(x_testing, \"no_visited_bars\")\n",
    "knn_func(x_testing, \"no_Take-aways\")\n",
    "knn_func(x_testing, \"Restaur_spend_less_than20\")"
   ]
  },
  {
   "cell_type": "code",
   "execution_count": 17,
   "id": "cbdd1689",
   "metadata": {
    "execution": {
     "iopub.execute_input": "2022-12-18T10:14:14.241236Z",
     "iopub.status.busy": "2022-12-18T10:14:14.240362Z",
     "iopub.status.idle": "2022-12-18T10:14:14.252681Z",
     "shell.execute_reply": "2022-12-18T10:14:14.250903Z"
    },
    "id": "sw0oGVPIPmt_",
    "papermill": {
     "duration": 0.039838,
     "end_time": "2022-12-18T10:14:14.256822",
     "exception": false,
     "start_time": "2022-12-18T10:14:14.216984",
     "status": "completed"
    },
    "tags": []
   },
   "outputs": [],
   "source": [
    "from sklearn.pipeline import Pipeline\n",
    "from sklearn.compose import ColumnTransformer\n",
    "\n",
    "ct1 = ColumnTransformer([\n",
    "        (\"scaler\", StandardScaler(), [\"no_visited_Cold drinks\", \"Restaur_spend_greater_than20\", \"no_visited_bars\", \"no_Take-aways\", \"Restaur_spend_less_than20\"])\n",
    "], remainder=\"passthrough\")"
   ]
  },
  {
   "cell_type": "code",
   "execution_count": 18,
   "id": "6f48d4b1",
   "metadata": {
    "execution": {
     "iopub.execute_input": "2022-12-18T10:14:14.300640Z",
     "iopub.status.busy": "2022-12-18T10:14:14.300117Z",
     "iopub.status.idle": "2022-12-18T10:14:14.356465Z",
     "shell.execute_reply": "2022-12-18T10:14:14.355317Z"
    },
    "id": "PXr9A0WyQNdh",
    "papermill": {
     "duration": 0.080897,
     "end_time": "2022-12-18T10:14:14.359569",
     "exception": false,
     "start_time": "2022-12-18T10:14:14.278672",
     "status": "completed"
    },
    "tags": []
   },
   "outputs": [],
   "source": [
    "one = ct1.fit_transform(x)\n",
    "onedata = pd.DataFrame(one)\n",
    "\n",
    "onetesting = ct1.fit_transform(x_testing)\n",
    "onedatatesting = pd.DataFrame(onetesting)"
   ]
  },
  {
   "cell_type": "code",
   "execution_count": 19,
   "id": "f163dd53",
   "metadata": {
    "execution": {
     "iopub.execute_input": "2022-12-18T10:14:14.389140Z",
     "iopub.status.busy": "2022-12-18T10:14:14.388089Z",
     "iopub.status.idle": "2022-12-18T10:14:14.396017Z",
     "shell.execute_reply": "2022-12-18T10:14:14.394580Z"
    },
    "id": "gXHjsVXl5fxE",
    "papermill": {
     "duration": 0.026533,
     "end_time": "2022-12-18T10:14:14.399101",
     "exception": false,
     "start_time": "2022-12-18T10:14:14.372568",
     "status": "completed"
    },
    "tags": []
   },
   "outputs": [],
   "source": [
    "from sklearn.pipeline import Pipeline\n",
    "from sklearn.compose import ColumnTransformer\n",
    "from sklearn.preprocessing import OrdinalEncoder\n",
    "\n",
    "ct2 = ColumnTransformer([\n",
    "        (\"ordinal\", OrdinalEncoder(), [0, 1, 5, 7, 16, 6, 12, 15, 19, 27, 26])\n",
    "        \n",
    "],remainder=\"passthrough\")"
   ]
  },
  {
   "cell_type": "code",
   "execution_count": 20,
   "id": "32897e4e",
   "metadata": {
    "execution": {
     "iopub.execute_input": "2022-12-18T10:14:14.428981Z",
     "iopub.status.busy": "2022-12-18T10:14:14.427928Z",
     "iopub.status.idle": "2022-12-18T10:14:14.433916Z",
     "shell.execute_reply": "2022-12-18T10:14:14.432834Z"
    },
    "id": "CUP4WwvQ-pHH",
    "papermill": {
     "duration": 0.024061,
     "end_time": "2022-12-18T10:14:14.436832",
     "exception": false,
     "start_time": "2022-12-18T10:14:14.412771",
     "status": "completed"
    },
    "tags": []
   },
   "outputs": [],
   "source": [
    "# j = ct1.fit_transform(data)\n",
    "# pd.DataFrame(j)"
   ]
  },
  {
   "cell_type": "code",
   "execution_count": 21,
   "id": "95f61824",
   "metadata": {
    "execution": {
     "iopub.execute_input": "2022-12-18T10:14:14.465710Z",
     "iopub.status.busy": "2022-12-18T10:14:14.465152Z",
     "iopub.status.idle": "2022-12-18T10:14:14.475909Z",
     "shell.execute_reply": "2022-12-18T10:14:14.474607Z"
    },
    "id": "kG_1gFMuH-pn",
    "outputId": "a297b05c-ae2a-43c7-b421-49c106259aa7",
    "papermill": {
     "duration": 0.028408,
     "end_time": "2022-12-18T10:14:14.478583",
     "exception": false,
     "start_time": "2022-12-18T10:14:14.450175",
     "status": "completed"
    },
    "tags": []
   },
   "outputs": [
    {
     "data": {
      "text/plain": [
       "0        0\n",
       "1        0\n",
       "2        1\n",
       "3        0\n",
       "4        0\n",
       "        ..\n",
       "12374    0\n",
       "12375    0\n",
       "12376    1\n",
       "12377    0\n",
       "12378    1\n",
       "Name: Prefer home food, Length: 12379, dtype: int64"
      ]
     },
     "execution_count": 21,
     "metadata": {},
     "output_type": "execute_result"
    }
   ],
   "source": [
    "x[\"Prefer home food\"]"
   ]
  },
  {
   "cell_type": "code",
   "execution_count": 22,
   "id": "642930d3",
   "metadata": {
    "execution": {
     "iopub.execute_input": "2022-12-18T10:14:14.508206Z",
     "iopub.status.busy": "2022-12-18T10:14:14.507626Z",
     "iopub.status.idle": "2022-12-18T10:14:14.588853Z",
     "shell.execute_reply": "2022-12-18T10:14:14.587402Z"
    },
    "id": "_FoQiV3L9giH",
    "papermill": {
     "duration": 0.100084,
     "end_time": "2022-12-18T10:14:14.591916",
     "exception": false,
     "start_time": "2022-12-18T10:14:14.491832",
     "status": "completed"
    },
    "tags": []
   },
   "outputs": [],
   "source": [
    "two = ct2.fit_transform(x)\n",
    "twodata = pd.DataFrame(two)\n",
    "\n",
    "twotesting = ct2.fit_transform(x_testing)\n",
    "twodatatesting = pd.DataFrame(twotesting)"
   ]
  },
  {
   "cell_type": "code",
   "execution_count": 23,
   "id": "253139b1",
   "metadata": {
    "execution": {
     "iopub.execute_input": "2022-12-18T10:14:14.621673Z",
     "iopub.status.busy": "2022-12-18T10:14:14.621088Z",
     "iopub.status.idle": "2022-12-18T10:14:14.630118Z",
     "shell.execute_reply": "2022-12-18T10:14:14.628581Z"
    },
    "id": "9P4nGKqst-kT",
    "outputId": "20acaaeb-436a-4770-b379-ea4a367d5771",
    "papermill": {
     "duration": 0.026666,
     "end_time": "2022-12-18T10:14:14.632654",
     "exception": false,
     "start_time": "2022-12-18T10:14:14.605988",
     "status": "completed"
    },
    "tags": []
   },
   "outputs": [
    {
     "data": {
      "text/plain": [
       "(12379, 29)"
      ]
     },
     "execution_count": 23,
     "metadata": {},
     "output_type": "execute_result"
    }
   ],
   "source": [
    "twodata.shape"
   ]
  },
  {
   "cell_type": "code",
   "execution_count": 24,
   "id": "a315b860",
   "metadata": {
    "execution": {
     "iopub.execute_input": "2022-12-18T10:14:14.661418Z",
     "iopub.status.busy": "2022-12-18T10:14:14.660827Z",
     "iopub.status.idle": "2022-12-18T10:14:14.667041Z",
     "shell.execute_reply": "2022-12-18T10:14:14.665546Z"
    },
    "id": "O7Kra40d5fxG",
    "papermill": {
     "duration": 0.023992,
     "end_time": "2022-12-18T10:14:14.669918",
     "exception": false,
     "start_time": "2022-12-18T10:14:14.645926",
     "status": "completed"
    },
    "tags": []
   },
   "outputs": [],
   "source": [
    "# ct3 = ColumnTransformer([\n",
    "#     (\"standardscaler\", StandardScaler(), [1, 2, 4, 7, 22, 23, 24, 25, 11])\n",
    "# ])\n",
    "\n",
    "# test_data = ct3.fit_transform(x_test_data)\n",
    "# sparse1 = pd.DataFrame(ct3.fit_transform(x_test_data))\n",
    "# x_test_data.drop(x_test_data.columns[[6, 12, 15, 19, 27, 28, 26]], inplace=True, axis=1)\n",
    "# x_test_data = pd.concat([x_test_data, sparse1], axis=1)"
   ]
  },
  {
   "cell_type": "code",
   "execution_count": 25,
   "id": "281bb327",
   "metadata": {
    "execution": {
     "iopub.execute_input": "2022-12-18T10:14:14.698533Z",
     "iopub.status.busy": "2022-12-18T10:14:14.697993Z",
     "iopub.status.idle": "2022-12-18T10:14:14.703790Z",
     "shell.execute_reply": "2022-12-18T10:14:14.702272Z"
    },
    "id": "ropn3rDSREWG",
    "papermill": {
     "duration": 0.023486,
     "end_time": "2022-12-18T10:14:14.706594",
     "exception": false,
     "start_time": "2022-12-18T10:14:14.683108",
     "status": "completed"
    },
    "tags": []
   },
   "outputs": [],
   "source": [
    "# x = pd.concat([onedata, twodata], axis=1)"
   ]
  },
  {
   "cell_type": "markdown",
   "id": "1db09577",
   "metadata": {
    "id": "_GHg60do5fxG",
    "papermill": {
     "duration": 0.012701,
     "end_time": "2022-12-18T10:14:14.732594",
     "exception": false,
     "start_time": "2022-12-18T10:14:14.719893",
     "status": "completed"
    },
    "tags": []
   },
   "source": [
    "# Graphs"
   ]
  },
  {
   "cell_type": "code",
   "execution_count": 26,
   "id": "e5346d66",
   "metadata": {
    "execution": {
     "iopub.execute_input": "2022-12-18T10:14:14.762239Z",
     "iopub.status.busy": "2022-12-18T10:14:14.760733Z",
     "iopub.status.idle": "2022-12-18T10:14:21.210383Z",
     "shell.execute_reply": "2022-12-18T10:14:21.208677Z"
    },
    "id": "J7nn1QWq5fxH",
    "outputId": "9862ee7b-d962-47da-e2ea-68f45877abc7",
    "papermill": {
     "duration": 6.467972,
     "end_time": "2022-12-18T10:14:21.213849",
     "exception": false,
     "start_time": "2022-12-18T10:14:14.745877",
     "status": "completed"
    },
    "tags": []
   },
   "outputs": [
    {
     "data": {
      "image/png": "[encoded data removed]",
      "text/plain": [
       "<Figure size 432x288 with 1 Axes>"
      ]
     },
     "metadata": {
      "needs_background": "light"
     },
     "output_type": "display_data"
    },
    {
     "data": {
      "image/png": "[encoded data removed]",
      "text/plain": [
       "<Figure size 432x288 with 1 Axes>"
      ]
     },
     "metadata": {
      "needs_background": "light"
     },
     "output_type": "display_data"
    },
    {
     "data": {
      "image/png": "[encoded data removed]",
      "text/plain": [
       "<Figure size 432x288 with 1 Axes>"
      ]
     },
     "metadata": {
      "needs_background": "light"
     },
     "output_type": "display_data"
    },
    {
     "data": {
      "image/png": "[encoded data removed]",
      "text/plain": [
       "<Figure size 432x288 with 1 Axes>"
      ]
     },
     "metadata": {
      "needs_background": "light"
     },
     "output_type": "display_data"
    },
    {
     "data": {
      "image/png": "[encoded data removed]",
      "text/plain": [
       "<Figure size 432x288 with 1 Axes>"
      ]
     },
     "metadata": {
      "needs_background": "light"
     },
     "output_type": "display_data"
    },
    {
     "data": {
      "image/png": "[encoded data removed]",
      "text/plain": [
       "<Figure size 432x288 with 1 Axes>"
      ]
     },
     "metadata": {
      "needs_background": "light"
     },
     "output_type": "display_data"
    },
    {
     "data": {
      "image/png": "[encoded data removed]",
      "text/plain": [
       "<Figure size 432x288 with 1 Axes>"
      ]
     },
     "metadata": {
      "needs_background": "light"
     },
     "output_type": "display_data"
    },
    {
     "data": {
      "image/png": "[encoded data removed]",
      "text/plain": [
       "<Figure size 432x288 with 1 Axes>"
      ]
     },
     "metadata": {
      "needs_background": "light"
     },
     "output_type": "display_data"
    },
    {
     "data": {
      "image/png": "[encoded data removed]",
      "text/plain": [
       "<Figure size 432x288 with 1 Axes>"
      ]
     },
     "metadata": {
      "needs_background": "light"
     },
     "output_type": "display_data"
    },
    {
     "data": {
      "image/png": "[encoded data removed]",
      "text/plain": [
       "<Figure size 432x288 with 1 Axes>"
      ]
     },
     "metadata": {
      "needs_background": "light"
     },
     "output_type": "display_data"
    },
    {
     "data": {
      "image/png": "[encoded data removed]",
      "text/plain": [
       "<Figure size 432x288 with 1 Axes>"
      ]
     },
     "metadata": {
      "needs_background": "light"
     },
     "output_type": "display_data"
    },
    {
     "data": {
      "image/png": "[encoded data removed]",
      "text/plain": [
       "<Figure size 432x288 with 1 Axes>"
      ]
     },
     "metadata": {
      "needs_background": "light"
     },
     "output_type": "display_data"
    },
    {
     "data": {
      "image/png": "[encoded data removed]",
      "text/plain": [
       "<Figure size 432x288 with 1 Axes>"
      ]
     },
     "metadata": {
      "needs_background": "light"
     },
     "output_type": "display_data"
    },
    {
     "data": {
      "image/png": "[encoded data removed]",
      "text/plain": [
       "<Figure size 432x288 with 1 Axes>"
      ]
     },
     "metadata": {
      "needs_background": "light"
     },
     "output_type": "display_data"
    },
    {
     "data": {
      "image/png": "[encoded data removed]",
      "text/plain": [
       "<Figure size 432x288 with 1 Axes>"
      ]
     },
     "metadata": {
      "needs_background": "light"
     },
     "output_type": "display_data"
    },
    {
     "data": {
      "image/png": "[encoded data removed]",
      "text/plain": [
       "<Figure size 432x288 with 1 Axes>"
      ]
     },
     "metadata": {
      "needs_background": "light"
     },
     "output_type": "display_data"
    },
    {
     "data": {
      "image/png": "[encoded data removed]",
      "text/plain": [
       "<Figure size 432x288 with 1 Axes>"
      ]
     },
     "metadata": {
      "needs_background": "light"
     },
     "output_type": "display_data"
    },
    {
     "data": {
      "image/png": "[encoded data removed]",
      "text/plain": [
       "<Figure size 432x288 with 1 Axes>"
      ]
     },
     "metadata": {
      "needs_background": "light"
     },
     "output_type": "display_data"
    },
    {
     "data": {
      "image/png": "[encoded data removed]",
      "text/plain": [
       "<Figure size 432x288 with 1 Axes>"
      ]
     },
     "metadata": {
      "needs_background": "light"
     },
     "output_type": "display_data"
    },
    {
     "data": {
      "image/png": "[encoded data removed]",
      "text/plain": [
       "<Figure size 432x288 with 1 Axes>"
      ]
     },
     "metadata": {
      "needs_background": "light"
     },
     "output_type": "display_data"
    },
    {
     "data": {
      "image/png": "[encoded data removed]",
      "text/plain": [
       "<Figure size 432x288 with 1 Axes>"
      ]
     },
     "metadata": {
      "needs_background": "light"
     },
     "output_type": "display_data"
    },
    {
     "data": {
      "image/png": "[encoded data removed]",
      "text/plain": [
       "<Figure size 432x288 with 1 Axes>"
      ]
     },
     "metadata": {
      "needs_background": "light"
     },
     "output_type": "display_data"
    },
    {
     "data": {
      "image/png": "[encoded data removed]",
      "text/plain": [
       "<Figure size 432x288 with 1 Axes>"
      ]
     },
     "metadata": {
      "needs_background": "light"
     },
     "output_type": "display_data"
    },
    {
     "data": {
      "image/png": "[encoded data removed]",
      "text/plain": [
       "<Figure size 432x288 with 1 Axes>"
      ]
     },
     "metadata": {
      "needs_background": "light"
     },
     "output_type": "display_data"
    },
    {
     "data": {
      "image/png": "[encoded data removed]",
      "text/plain": [
       "<Figure size 432x288 with 1 Axes>"
      ]
     },
     "metadata": {
      "needs_background": "light"
     },
     "output_type": "display_data"
    },
    {
     "data": {
      "image/png": "[encoded data removed]",
      "text/plain": [
       "<Figure size 432x288 with 1 Axes>"
      ]
     },
     "metadata": {
      "needs_background": "light"
     },
     "output_type": "display_data"
    },
    {
     "data": {
      "image/png": "[encoded data removed]",
      "text/plain": [
       "<Figure size 432x288 with 1 Axes>"
      ]
     },
     "metadata": {
      "needs_background": "light"
     },
     "output_type": "display_data"
    },
    {
     "data": {
      "image/png": "[encoded data removed]",
      "text/plain": [
       "<Figure size 432x288 with 1 Axes>"
      ]
     },
     "metadata": {
      "needs_background": "light"
     },
     "output_type": "display_data"
    },
    {
     "data": {
      "image/png": "[encoded data removed]",
      "text/plain": [
       "<Figure size 432x288 with 1 Axes>"
      ]
     },
     "metadata": {
      "needs_background": "light"
     },
     "output_type": "display_data"
    },
    {
     "data": {
      "image/png": "[encoded data removed]",
      "text/plain": [
       "<Figure size 432x288 with 1 Axes>"
      ]
     },
     "metadata": {
      "needs_background": "light"
     },
     "output_type": "display_data"
    },
    {
     "data": {
      "image/png": "[encoded data removed]",
      "text/plain": [
       "<Figure size 432x288 with 1 Axes>"
      ]
     },
     "metadata": {
      "needs_background": "light"
     },
     "output_type": "display_data"
    }
   ],
   "source": [
    "# data.iloc[:, 5].hist()\n",
    "# plt.show()\n",
    "#normal: standardscaler\n",
    "#uniform: MinMax/ MinAbsoluteScaler\n",
    "#no difference between label & one hot encoding \n",
    "for i in data.columns:\n",
    "    data.loc[:, i].hist()\n",
    "    plt.title(i)\n",
    "    plt.show()"
   ]
  },
  {
   "cell_type": "markdown",
   "id": "dfe6115e",
   "metadata": {
    "id": "3Zl0OqWn5fxH",
    "papermill": {
     "duration": 0.020914,
     "end_time": "2022-12-18T10:14:21.257187",
     "exception": false,
     "start_time": "2022-12-18T10:14:21.236273",
     "status": "completed"
    },
    "tags": []
   },
   "source": [
    "## Predictions"
   ]
  },
  {
   "cell_type": "markdown",
   "id": "6eb1499c",
   "metadata": {
    "id": "m-PXfpLm5fxH",
    "papermill": {
     "duration": 0.020659,
     "end_time": "2022-12-18T10:14:21.299241",
     "exception": false,
     "start_time": "2022-12-18T10:14:21.278582",
     "status": "completed"
    },
    "tags": []
   },
   "source": [
    "# RandomForestClassifier"
   ]
  },
  {
   "cell_type": "code",
   "execution_count": 27,
   "id": "3106b678",
   "metadata": {
    "execution": {
     "iopub.execute_input": "2022-12-18T10:14:21.345701Z",
     "iopub.status.busy": "2022-12-18T10:14:21.345134Z",
     "iopub.status.idle": "2022-12-18T10:14:21.353097Z",
     "shell.execute_reply": "2022-12-18T10:14:21.352137Z"
    },
    "id": "lQWft8QjuTIq",
    "outputId": "0c07eb18-e403-4d07-a4e3-9fb89f3c1360",
    "papermill": {
     "duration": 0.034493,
     "end_time": "2022-12-18T10:14:21.355315",
     "exception": false,
     "start_time": "2022-12-18T10:14:21.320822",
     "status": "completed"
    },
    "tags": []
   },
   "outputs": [
    {
     "data": {
      "text/plain": [
       "((12379, 29), (12379, 1))"
      ]
     },
     "execution_count": 27,
     "metadata": {},
     "output_type": "execute_result"
    }
   ],
   "source": [
    "x.shape, y.shape"
   ]
  },
  {
   "cell_type": "code",
   "execution_count": 28,
   "id": "4c4040e3",
   "metadata": {
    "execution": {
     "iopub.execute_input": "2022-12-18T10:14:21.402591Z",
     "iopub.status.busy": "2022-12-18T10:14:21.401967Z",
     "iopub.status.idle": "2022-12-18T10:14:21.471959Z",
     "shell.execute_reply": "2022-12-18T10:14:21.470772Z"
    },
    "id": "z2BbK-aMoqqa",
    "papermill": {
     "duration": 0.097606,
     "end_time": "2022-12-18T10:14:21.474860",
     "exception": false,
     "start_time": "2022-12-18T10:14:21.377254",
     "status": "completed"
    },
    "tags": []
   },
   "outputs": [],
   "source": [
    "from sklearn.model_selection import train_test_split\n",
    "x_train, x_test, y_train, y_test = train_test_split(twodata, y, test_size=0.2, stratify=y)"
   ]
  },
  {
   "cell_type": "code",
   "execution_count": 29,
   "id": "1669a914",
   "metadata": {
    "execution": {
     "iopub.execute_input": "2022-12-18T10:14:21.520615Z",
     "iopub.status.busy": "2022-12-18T10:14:21.520022Z",
     "iopub.status.idle": "2022-12-18T10:14:21.569277Z",
     "shell.execute_reply": "2022-12-18T10:14:21.568033Z"
    },
    "id": "ZN8l_xJ5GTCB",
    "outputId": "2e92b1c7-ac5a-4638-a75c-587a6c39f8fa",
    "papermill": {
     "duration": 0.075969,
     "end_time": "2022-12-18T10:14:21.572206",
     "exception": false,
     "start_time": "2022-12-18T10:14:21.496237",
     "status": "completed"
    },
    "tags": []
   },
   "outputs": [
    {
     "data": {
      "text/html": [
       "<div>\n",
       "<style scoped>\n",
       "    .dataframe tbody tr th:only-of-type {\n",
       "        vertical-align: middle;\n",
       "    }\n",
       "\n",
       "    .dataframe tbody tr th {\n",
       "        vertical-align: top;\n",
       "    }\n",
       "\n",
       "    .dataframe thead th {\n",
       "        text-align: right;\n",
       "    }\n",
       "</style>\n",
       "<table border=\"1\" class=\"dataframe\">\n",
       "  <thead>\n",
       "    <tr style=\"text-align: right;\">\n",
       "      <th></th>\n",
       "      <th>0</th>\n",
       "      <th>1</th>\n",
       "      <th>2</th>\n",
       "      <th>3</th>\n",
       "      <th>4</th>\n",
       "      <th>5</th>\n",
       "      <th>6</th>\n",
       "      <th>7</th>\n",
       "      <th>8</th>\n",
       "      <th>9</th>\n",
       "      <th>...</th>\n",
       "      <th>19</th>\n",
       "      <th>20</th>\n",
       "      <th>21</th>\n",
       "      <th>22</th>\n",
       "      <th>23</th>\n",
       "      <th>24</th>\n",
       "      <th>25</th>\n",
       "      <th>26</th>\n",
       "      <th>27</th>\n",
       "      <th>28</th>\n",
       "    </tr>\n",
       "  </thead>\n",
       "  <tbody>\n",
       "    <tr>\n",
       "      <th>5299</th>\n",
       "      <td>0.0</td>\n",
       "      <td>4.0</td>\n",
       "      <td>2.0</td>\n",
       "      <td>1.0</td>\n",
       "      <td>5.0</td>\n",
       "      <td>2.0</td>\n",
       "      <td>1.0</td>\n",
       "      <td>1.0</td>\n",
       "      <td>16.0</td>\n",
       "      <td>0.0</td>\n",
       "      <td>...</td>\n",
       "      <td>0.0</td>\n",
       "      <td>1.0</td>\n",
       "      <td>2.0</td>\n",
       "      <td>1.0</td>\n",
       "      <td>0.0</td>\n",
       "      <td>1.0</td>\n",
       "      <td>89.0</td>\n",
       "      <td>3.0</td>\n",
       "      <td>10.0</td>\n",
       "      <td>1.0</td>\n",
       "    </tr>\n",
       "    <tr>\n",
       "      <th>8417</th>\n",
       "      <td>0.0</td>\n",
       "      <td>8.0</td>\n",
       "      <td>3.0</td>\n",
       "      <td>4.0</td>\n",
       "      <td>5.0</td>\n",
       "      <td>3.0</td>\n",
       "      <td>0.0</td>\n",
       "      <td>1.0</td>\n",
       "      <td>22.0</td>\n",
       "      <td>0.0</td>\n",
       "      <td>...</td>\n",
       "      <td>1.0</td>\n",
       "      <td>1.0</td>\n",
       "      <td>3.0</td>\n",
       "      <td>0.0</td>\n",
       "      <td>1.0</td>\n",
       "      <td>0.0</td>\n",
       "      <td>67.0</td>\n",
       "      <td>4.0</td>\n",
       "      <td>7.0</td>\n",
       "      <td>1.0</td>\n",
       "    </tr>\n",
       "    <tr>\n",
       "      <th>4066</th>\n",
       "      <td>0.0</td>\n",
       "      <td>2.0</td>\n",
       "      <td>3.0</td>\n",
       "      <td>0.0</td>\n",
       "      <td>1.0</td>\n",
       "      <td>4.0</td>\n",
       "      <td>1.0</td>\n",
       "      <td>3.0</td>\n",
       "      <td>15.0</td>\n",
       "      <td>0.0</td>\n",
       "      <td>...</td>\n",
       "      <td>0.0</td>\n",
       "      <td>0.0</td>\n",
       "      <td>1.0</td>\n",
       "      <td>1.0</td>\n",
       "      <td>0.0</td>\n",
       "      <td>0.0</td>\n",
       "      <td>89.0</td>\n",
       "      <td>3.0</td>\n",
       "      <td>10.0</td>\n",
       "      <td>0.0</td>\n",
       "    </tr>\n",
       "    <tr>\n",
       "      <th>6854</th>\n",
       "      <td>0.0</td>\n",
       "      <td>5.0</td>\n",
       "      <td>2.0</td>\n",
       "      <td>0.0</td>\n",
       "      <td>5.0</td>\n",
       "      <td>2.0</td>\n",
       "      <td>0.0</td>\n",
       "      <td>0.0</td>\n",
       "      <td>22.0</td>\n",
       "      <td>1.0</td>\n",
       "      <td>...</td>\n",
       "      <td>0.0</td>\n",
       "      <td>0.0</td>\n",
       "      <td>4.0</td>\n",
       "      <td>0.0</td>\n",
       "      <td>0.0</td>\n",
       "      <td>0.0</td>\n",
       "      <td>89.0</td>\n",
       "      <td>3.0</td>\n",
       "      <td>10.0</td>\n",
       "      <td>0.0</td>\n",
       "    </tr>\n",
       "    <tr>\n",
       "      <th>5956</th>\n",
       "      <td>0.0</td>\n",
       "      <td>1.0</td>\n",
       "      <td>1.0</td>\n",
       "      <td>4.0</td>\n",
       "      <td>5.0</td>\n",
       "      <td>1.0</td>\n",
       "      <td>0.0</td>\n",
       "      <td>0.0</td>\n",
       "      <td>3.0</td>\n",
       "      <td>1.0</td>\n",
       "      <td>...</td>\n",
       "      <td>0.0</td>\n",
       "      <td>0.0</td>\n",
       "      <td>0.0</td>\n",
       "      <td>0.0</td>\n",
       "      <td>1.0</td>\n",
       "      <td>1.0</td>\n",
       "      <td>89.0</td>\n",
       "      <td>3.0</td>\n",
       "      <td>14.0</td>\n",
       "      <td>1.0</td>\n",
       "    </tr>\n",
       "    <tr>\n",
       "      <th>...</th>\n",
       "      <td>...</td>\n",
       "      <td>...</td>\n",
       "      <td>...</td>\n",
       "      <td>...</td>\n",
       "      <td>...</td>\n",
       "      <td>...</td>\n",
       "      <td>...</td>\n",
       "      <td>...</td>\n",
       "      <td>...</td>\n",
       "      <td>...</td>\n",
       "      <td>...</td>\n",
       "      <td>...</td>\n",
       "      <td>...</td>\n",
       "      <td>...</td>\n",
       "      <td>...</td>\n",
       "      <td>...</td>\n",
       "      <td>...</td>\n",
       "      <td>...</td>\n",
       "      <td>...</td>\n",
       "      <td>...</td>\n",
       "      <td>...</td>\n",
       "    </tr>\n",
       "    <tr>\n",
       "      <th>5749</th>\n",
       "      <td>0.0</td>\n",
       "      <td>3.0</td>\n",
       "      <td>2.0</td>\n",
       "      <td>1.0</td>\n",
       "      <td>5.0</td>\n",
       "      <td>0.0</td>\n",
       "      <td>0.0</td>\n",
       "      <td>1.0</td>\n",
       "      <td>7.0</td>\n",
       "      <td>0.0</td>\n",
       "      <td>...</td>\n",
       "      <td>0.0</td>\n",
       "      <td>1.0</td>\n",
       "      <td>3.0</td>\n",
       "      <td>1.0</td>\n",
       "      <td>0.0</td>\n",
       "      <td>1.0</td>\n",
       "      <td>40.0</td>\n",
       "      <td>3.0</td>\n",
       "      <td>18.0</td>\n",
       "      <td>0.0</td>\n",
       "    </tr>\n",
       "    <tr>\n",
       "      <th>362</th>\n",
       "      <td>0.0</td>\n",
       "      <td>2.0</td>\n",
       "      <td>3.0</td>\n",
       "      <td>3.0</td>\n",
       "      <td>5.0</td>\n",
       "      <td>2.0</td>\n",
       "      <td>0.0</td>\n",
       "      <td>1.0</td>\n",
       "      <td>5.0</td>\n",
       "      <td>0.0</td>\n",
       "      <td>...</td>\n",
       "      <td>1.0</td>\n",
       "      <td>1.0</td>\n",
       "      <td>3.0</td>\n",
       "      <td>1.0</td>\n",
       "      <td>1.0</td>\n",
       "      <td>2.0</td>\n",
       "      <td>40.0</td>\n",
       "      <td>2.0</td>\n",
       "      <td>7.0</td>\n",
       "      <td>0.0</td>\n",
       "    </tr>\n",
       "    <tr>\n",
       "      <th>2321</th>\n",
       "      <td>1.0</td>\n",
       "      <td>5.0</td>\n",
       "      <td>1.0</td>\n",
       "      <td>6.0</td>\n",
       "      <td>1.0</td>\n",
       "      <td>3.0</td>\n",
       "      <td>0.0</td>\n",
       "      <td>0.0</td>\n",
       "      <td>20.0</td>\n",
       "      <td>1.0</td>\n",
       "      <td>...</td>\n",
       "      <td>1.0</td>\n",
       "      <td>1.0</td>\n",
       "      <td>2.0</td>\n",
       "      <td>1.0</td>\n",
       "      <td>1.0</td>\n",
       "      <td>4.0</td>\n",
       "      <td>67.0</td>\n",
       "      <td>3.0</td>\n",
       "      <td>18.0</td>\n",
       "      <td>1.0</td>\n",
       "    </tr>\n",
       "    <tr>\n",
       "      <th>5909</th>\n",
       "      <td>1.0</td>\n",
       "      <td>4.0</td>\n",
       "      <td>2.0</td>\n",
       "      <td>5.0</td>\n",
       "      <td>1.0</td>\n",
       "      <td>1.0</td>\n",
       "      <td>0.0</td>\n",
       "      <td>0.0</td>\n",
       "      <td>1.0</td>\n",
       "      <td>2.0</td>\n",
       "      <td>...</td>\n",
       "      <td>1.0</td>\n",
       "      <td>0.0</td>\n",
       "      <td>3.0</td>\n",
       "      <td>1.0</td>\n",
       "      <td>0.0</td>\n",
       "      <td>1.0</td>\n",
       "      <td>89.0</td>\n",
       "      <td>4.0</td>\n",
       "      <td>18.0</td>\n",
       "      <td>0.0</td>\n",
       "    </tr>\n",
       "    <tr>\n",
       "      <th>4994</th>\n",
       "      <td>0.0</td>\n",
       "      <td>1.0</td>\n",
       "      <td>1.0</td>\n",
       "      <td>2.0</td>\n",
       "      <td>5.0</td>\n",
       "      <td>0.0</td>\n",
       "      <td>1.0</td>\n",
       "      <td>1.0</td>\n",
       "      <td>21.0</td>\n",
       "      <td>0.0</td>\n",
       "      <td>...</td>\n",
       "      <td>1.0</td>\n",
       "      <td>1.0</td>\n",
       "      <td>2.0</td>\n",
       "      <td>0.0</td>\n",
       "      <td>1.0</td>\n",
       "      <td>3.0</td>\n",
       "      <td>89.0</td>\n",
       "      <td>3.0</td>\n",
       "      <td>7.0</td>\n",
       "      <td>0.0</td>\n",
       "    </tr>\n",
       "  </tbody>\n",
       "</table>\n",
       "<p>9903 rows × 29 columns</p>\n",
       "</div>"
      ],
      "text/plain": [
       "       0    1    2    3    4    5    6    7     8    9   ...   19   20   21  \\\n",
       "5299  0.0  4.0  2.0  1.0  5.0  2.0  1.0  1.0  16.0  0.0  ...  0.0  1.0  2.0   \n",
       "8417  0.0  8.0  3.0  4.0  5.0  3.0  0.0  1.0  22.0  0.0  ...  1.0  1.0  3.0   \n",
       "4066  0.0  2.0  3.0  0.0  1.0  4.0  1.0  3.0  15.0  0.0  ...  0.0  0.0  1.0   \n",
       "6854  0.0  5.0  2.0  0.0  5.0  2.0  0.0  0.0  22.0  1.0  ...  0.0  0.0  4.0   \n",
       "5956  0.0  1.0  1.0  4.0  5.0  1.0  0.0  0.0   3.0  1.0  ...  0.0  0.0  0.0   \n",
       "...   ...  ...  ...  ...  ...  ...  ...  ...   ...  ...  ...  ...  ...  ...   \n",
       "5749  0.0  3.0  2.0  1.0  5.0  0.0  0.0  1.0   7.0  0.0  ...  0.0  1.0  3.0   \n",
       "362   0.0  2.0  3.0  3.0  5.0  2.0  0.0  1.0   5.0  0.0  ...  1.0  1.0  3.0   \n",
       "2321  1.0  5.0  1.0  6.0  1.0  3.0  0.0  0.0  20.0  1.0  ...  1.0  1.0  2.0   \n",
       "5909  1.0  4.0  2.0  5.0  1.0  1.0  0.0  0.0   1.0  2.0  ...  1.0  0.0  3.0   \n",
       "4994  0.0  1.0  1.0  2.0  5.0  0.0  1.0  1.0  21.0  0.0  ...  1.0  1.0  2.0   \n",
       "\n",
       "       22   23   24    25   26    27   28  \n",
       "5299  1.0  0.0  1.0  89.0  3.0  10.0  1.0  \n",
       "8417  0.0  1.0  0.0  67.0  4.0   7.0  1.0  \n",
       "4066  1.0  0.0  0.0  89.0  3.0  10.0  0.0  \n",
       "6854  0.0  0.0  0.0  89.0  3.0  10.0  0.0  \n",
       "5956  0.0  1.0  1.0  89.0  3.0  14.0  1.0  \n",
       "...   ...  ...  ...   ...  ...   ...  ...  \n",
       "5749  1.0  0.0  1.0  40.0  3.0  18.0  0.0  \n",
       "362   1.0  1.0  2.0  40.0  2.0   7.0  0.0  \n",
       "2321  1.0  1.0  4.0  67.0  3.0  18.0  1.0  \n",
       "5909  1.0  0.0  1.0  89.0  4.0  18.0  0.0  \n",
       "4994  0.0  1.0  3.0  89.0  3.0   7.0  0.0  \n",
       "\n",
       "[9903 rows x 29 columns]"
      ]
     },
     "execution_count": 29,
     "metadata": {},
     "output_type": "execute_result"
    }
   ],
   "source": [
    "x_train"
   ]
  },
  {
   "cell_type": "code",
   "execution_count": 30,
   "id": "12c15db1",
   "metadata": {
    "execution": {
     "iopub.execute_input": "2022-12-18T10:14:21.618821Z",
     "iopub.status.busy": "2022-12-18T10:14:21.618253Z",
     "iopub.status.idle": "2022-12-18T10:14:34.091108Z",
     "shell.execute_reply": "2022-12-18T10:14:34.089708Z"
    },
    "id": "eIIOwQu-5fxI",
    "outputId": "6ac26937-82a4-44b8-9caf-fc1207417e8a",
    "papermill": {
     "duration": 12.500748,
     "end_time": "2022-12-18T10:14:34.095035",
     "exception": false,
     "start_time": "2022-12-18T10:14:21.594287",
     "status": "completed"
    },
    "tags": []
   },
   "outputs": [
    {
     "name": "stderr",
     "output_type": "stream",
     "text": [
      "/opt/conda/lib/python3.7/site-packages/ipykernel_launcher.py:2: DataConversionWarning: A column-vector y was passed when a 1d array was expected. Please change the shape of y to (n_samples,), for example using ravel().\n",
      "  \n"
     ]
    },
    {
     "data": {
      "text/plain": [
       "RandomForestClassifier(class_weight='balanced', min_samples_split=10,\n",
       "                       n_estimators=900)"
      ]
     },
     "execution_count": 30,
     "metadata": {},
     "output_type": "execute_result"
    }
   ],
   "source": [
    "rf = RandomForestClassifier(n_estimators=900, max_depth=None, class_weight=\"balanced\", min_samples_split=10)\n",
    "rf.fit(x_train, y_train)"
   ]
  },
  {
   "cell_type": "code",
   "execution_count": 31,
   "id": "bc20fc76",
   "metadata": {
    "execution": {
     "iopub.execute_input": "2022-12-18T10:14:34.157031Z",
     "iopub.status.busy": "2022-12-18T10:14:34.156490Z",
     "iopub.status.idle": "2022-12-18T10:14:34.166366Z",
     "shell.execute_reply": "2022-12-18T10:14:34.164659Z"
    },
    "id": "wyHMDErmBSE-",
    "outputId": "21674f46-2e7e-4060-d1ba-710b90b8fc2b",
    "papermill": {
     "duration": 0.038241,
     "end_time": "2022-12-18T10:14:34.169504",
     "exception": false,
     "start_time": "2022-12-18T10:14:34.131263",
     "status": "completed"
    },
    "tags": []
   },
   "outputs": [
    {
     "data": {
      "text/plain": [
       "(9903, 29)"
      ]
     },
     "execution_count": 31,
     "metadata": {},
     "output_type": "execute_result"
    }
   ],
   "source": [
    "x_train.shape"
   ]
  },
  {
   "cell_type": "code",
   "execution_count": 32,
   "id": "f64601ca",
   "metadata": {
    "execution": {
     "iopub.execute_input": "2022-12-18T10:14:34.217624Z",
     "iopub.status.busy": "2022-12-18T10:14:34.216969Z",
     "iopub.status.idle": "2022-12-18T10:14:34.226304Z",
     "shell.execute_reply": "2022-12-18T10:14:34.224906Z"
    },
    "id": "yQnVSU2XBUms",
    "outputId": "6c36da39-02ef-4621-bd70-03348d1ae2ed",
    "papermill": {
     "duration": 0.036977,
     "end_time": "2022-12-18T10:14:34.228893",
     "exception": false,
     "start_time": "2022-12-18T10:14:34.191916",
     "status": "completed"
    },
    "tags": []
   },
   "outputs": [
    {
     "data": {
      "text/plain": [
       "(2476, 29)"
      ]
     },
     "execution_count": 32,
     "metadata": {},
     "output_type": "execute_result"
    }
   ],
   "source": [
    "x_test.shape"
   ]
  },
  {
   "cell_type": "code",
   "execution_count": 33,
   "id": "5ba0bec8",
   "metadata": {
    "execution": {
     "iopub.execute_input": "2022-12-18T10:14:34.279529Z",
     "iopub.status.busy": "2022-12-18T10:14:34.278634Z",
     "iopub.status.idle": "2022-12-18T10:14:34.898006Z",
     "shell.execute_reply": "2022-12-18T10:14:34.896517Z"
    },
    "id": "9HZjD64J5fxI",
    "outputId": "d244a43d-9ed3-4722-fcbd-9db929c9e548",
    "papermill": {
     "duration": 0.64861,
     "end_time": "2022-12-18T10:14:34.901752",
     "exception": false,
     "start_time": "2022-12-18T10:14:34.253142",
     "status": "completed"
    },
    "tags": []
   },
   "outputs": [
    {
     "name": "stdout",
     "output_type": "stream",
     "text": [
      "              precision    recall  f1-score   support\n",
      "\n",
      "           0       0.58      0.47      0.52      1077\n",
      "           1       0.65      0.74      0.69      1399\n",
      "\n",
      "    accuracy                           0.62      2476\n",
      "   macro avg       0.61      0.61      0.61      2476\n",
      "weighted avg       0.62      0.62      0.62      2476\n",
      "\n"
     ]
    }
   ],
   "source": [
    "from sklearn.metrics import classification_report\n",
    "y_pred = rf.predict(x_test)\n",
    "print(classification_report(y_test, y_pred))"
   ]
  },
  {
   "cell_type": "code",
   "execution_count": 34,
   "id": "f7efb00b",
   "metadata": {
    "execution": {
     "iopub.execute_input": "2022-12-18T10:14:34.951038Z",
     "iopub.status.busy": "2022-12-18T10:14:34.950200Z",
     "iopub.status.idle": "2022-12-18T10:14:36.829916Z",
     "shell.execute_reply": "2022-12-18T10:14:36.828355Z"
    },
    "id": "WK6CO50xgPpN",
    "outputId": "70425cd9-2762-4914-cf76-e36af4bc69bd",
    "papermill": {
     "duration": 1.908801,
     "end_time": "2022-12-18T10:14:36.833595",
     "exception": false,
     "start_time": "2022-12-18T10:14:34.924794",
     "status": "completed"
    },
    "tags": []
   },
   "outputs": [
    {
     "name": "stdout",
     "output_type": "stream",
     "text": [
      "              precision    recall  f1-score   support\n",
      "\n",
      "           0       0.98      0.99      0.99      4308\n",
      "           1       0.99      0.99      0.99      5595\n",
      "\n",
      "    accuracy                           0.99      9903\n",
      "   macro avg       0.99      0.99      0.99      9903\n",
      "weighted avg       0.99      0.99      0.99      9903\n",
      "\n"
     ]
    }
   ],
   "source": [
    "y_pred1 = rf.predict(x_train)\n",
    "print(classification_report(y_train, y_pred1))"
   ]
  },
  {
   "cell_type": "markdown",
   "id": "20b2ae22",
   "metadata": {
    "papermill": {
     "duration": 0.02295,
     "end_time": "2022-12-18T10:14:36.880137",
     "exception": false,
     "start_time": "2022-12-18T10:14:36.857187",
     "status": "completed"
    },
    "tags": []
   },
   "source": [
    "## RandomizedSearchCV"
   ]
  },
  {
   "cell_type": "code",
   "execution_count": 35,
   "id": "ebbd76f9",
   "metadata": {
    "execution": {
     "iopub.execute_input": "2022-12-18T10:14:36.928188Z",
     "iopub.status.busy": "2022-12-18T10:14:36.927630Z",
     "iopub.status.idle": "2022-12-18T10:14:36.933349Z",
     "shell.execute_reply": "2022-12-18T10:14:36.931894Z"
    },
    "papermill": {
     "duration": 0.033308,
     "end_time": "2022-12-18T10:14:36.936339",
     "exception": false,
     "start_time": "2022-12-18T10:14:36.903031",
     "status": "completed"
    },
    "tags": []
   },
   "outputs": [],
   "source": [
    "# from sklearn.model_selection import RandomizedSearchCV\n",
    "# params = {n_estimators:range}"
   ]
  },
  {
   "cell_type": "code",
   "execution_count": null,
   "id": "823739e7",
   "metadata": {
    "papermill": {
     "duration": 0.022709,
     "end_time": "2022-12-18T10:14:36.983118",
     "exception": false,
     "start_time": "2022-12-18T10:14:36.960409",
     "status": "completed"
    },
    "tags": []
   },
   "outputs": [],
   "source": []
  },
  {
   "cell_type": "markdown",
   "id": "bcf3e2bb",
   "metadata": {
    "id": "3a8xlKlkwyzL",
    "papermill": {
     "duration": 0.022547,
     "end_time": "2022-12-18T10:14:37.029318",
     "exception": false,
     "start_time": "2022-12-18T10:14:37.006771",
     "status": "completed"
    },
    "tags": []
   },
   "source": [
    "##Predict Test Data"
   ]
  },
  {
   "cell_type": "code",
   "execution_count": 36,
   "id": "ba46c64e",
   "metadata": {
    "execution": {
     "iopub.execute_input": "2022-12-18T10:14:37.079349Z",
     "iopub.status.busy": "2022-12-18T10:14:37.077857Z",
     "iopub.status.idle": "2022-12-18T10:14:38.160421Z",
     "shell.execute_reply": "2022-12-18T10:14:38.158906Z"
    },
    "id": "kWrgKSxjw1B0",
    "papermill": {
     "duration": 1.110927,
     "end_time": "2022-12-18T10:14:38.163724",
     "exception": false,
     "start_time": "2022-12-18T10:14:37.052797",
     "status": "completed"
    },
    "tags": []
   },
   "outputs": [],
   "source": [
    "y_testing = rf.predict(twodatatesting)\n",
    "# y_testing = pd.DataFrame(y_testing)"
   ]
  },
  {
   "cell_type": "code",
   "execution_count": 37,
   "id": "d6198c24",
   "metadata": {
    "execution": {
     "iopub.execute_input": "2022-12-18T10:14:38.212317Z",
     "iopub.status.busy": "2022-12-18T10:14:38.211775Z",
     "iopub.status.idle": "2022-12-18T10:14:38.219244Z",
     "shell.execute_reply": "2022-12-18T10:14:38.218170Z"
    },
    "id": "FUFDde4cz2hP",
    "papermill": {
     "duration": 0.03492,
     "end_time": "2022-12-18T10:14:38.221752",
     "exception": false,
     "start_time": "2022-12-18T10:14:38.186832",
     "status": "completed"
    },
    "tags": []
   },
   "outputs": [],
   "source": [
    "def submission(label):\n",
    "  f = open(f'/kaggle/working/submission.csv', \"w\")\n",
    "  #f = open(f'/kaggle/submission.csv', \"w\")\n",
    " #f = open(f'/kaggle/output/marketing-strategy-personalised-offer/submissions.csv', \"w\")\n",
    "  f.write('id' + ',' + 'Offer Accepted\\n')\n",
    "  for i in range(len(label)):\n",
    "    if (label[i] == 0):\n",
    "      f.write(str(i) + ',' + 'No\\n')\n",
    "    else:\n",
    "      f.write(str(i) + ',' + 'Yes\\n')\n",
    "  f.close()"
   ]
  },
  {
   "cell_type": "code",
   "execution_count": 38,
   "id": "8a8e91a5",
   "metadata": {
    "execution": {
     "iopub.execute_input": "2022-12-18T10:14:38.271678Z",
     "iopub.status.busy": "2022-12-18T10:14:38.270694Z",
     "iopub.status.idle": "2022-12-18T10:14:38.281547Z",
     "shell.execute_reply": "2022-12-18T10:14:38.279894Z"
    },
    "id": "Zlo1H0lzxKWJ",
    "papermill": {
     "duration": 0.040123,
     "end_time": "2022-12-18T10:14:38.284765",
     "exception": false,
     "start_time": "2022-12-18T10:14:38.244642",
     "status": "completed"
    },
    "tags": []
   },
   "outputs": [],
   "source": [
    "# y_testing.replace(1, \"Yes\", inplace=True)\n",
    "# y_testing.replace(0, \"No\", inplace=True)\n",
    "#y_testing.to_csv(\"submission.csv\", columns=[\"OfferAccepted\"])\n",
    "submission(y_testing)"
   ]
  },
  {
   "cell_type": "code",
   "execution_count": 39,
   "id": "75cef5b0",
   "metadata": {
    "execution": {
     "iopub.execute_input": "2022-12-18T10:14:38.334369Z",
     "iopub.status.busy": "2022-12-18T10:14:38.333507Z",
     "iopub.status.idle": "2022-12-18T10:14:38.342478Z",
     "shell.execute_reply": "2022-12-18T10:14:38.341091Z"
    },
    "id": "B-0s7FMh0PZA",
    "outputId": "446458a5-8dc9-4e80-c360-f2e8dcce21d4",
    "papermill": {
     "duration": 0.037722,
     "end_time": "2022-12-18T10:14:38.345868",
     "exception": false,
     "start_time": "2022-12-18T10:14:38.308146",
     "status": "completed"
    },
    "tags": []
   },
   "outputs": [
    {
     "data": {
      "text/plain": [
       "array([0, 1, 0, ..., 0, 0, 1])"
      ]
     },
     "execution_count": 39,
     "metadata": {},
     "output_type": "execute_result"
    }
   ],
   "source": [
    "y_testing"
   ]
  }
 ],
 "metadata": {
  "kernelspec": {
   "display_name": "Python 3",
   "language": "python",
   "name": "python3"
  },
  "language_info": {
   "codemirror_mode": {
    "name": "ipython",
    "version": 3
   },
   "file_extension": ".py",
   "mimetype": "text/x-python",
   "name": "python",
   "nbconvert_exporter": "python",
   "pygments_lexer": "ipython3",
   "version": "3.7.12"
  },
  "papermill": {
   "default_parameters": {},
   "duration": 39.75837,
   "end_time": "2022-12-18T10:14:39.598849",
   "environment_variables": {},
   "exception": null,
   "input_path": "__notebook__.ipynb",
   "output_path": "__notebook__.ipynb",
   "parameters": {},
   "start_time": "2022-12-18T10:13:59.840479",
   "version": "2.3.4"
  }
 },
 "nbformat": 4,
 "nbformat_minor": 5
}
